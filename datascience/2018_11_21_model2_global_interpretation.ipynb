{
 "cells": [
  {
   "cell_type": "code",
   "execution_count": 1,
   "metadata": {},
   "outputs": [
    {
     "name": "stderr",
     "output_type": "stream",
     "text": [
      "100%|████████████████████████████████████████████████████████████████████████████████| 289/289 [00:03<00:00, 77.38it/s]\n"
     ]
    }
   ],
   "source": [
    "%matplotlib inline\n",
    "import pandas as pd, seaborn as sns, numpy as np, os, matplotlib.pyplot as plt\n",
    "from tqdm import tqdm\n",
    "from helper_funcs import *\n",
    "from sklearn.model_selection import train_test_split\n",
    "from sklearn.metrics import f1_score, precision_score, recall_score, balanced_accuracy_score\n",
    "from sklearn.externals import joblib\n",
    "from imblearn.ensemble import BalancedRandomForestClassifier # !!!!!! balanced!\n",
    "from IPython.display import display, Markdown\n",
    "\n",
    "def md(txt): display(Markdown(txt))\n",
    "\n",
    "if not 'df' in globals(): \n",
    "    df = pd.read_parquet('data/involved_hebrew.parquet')\n",
    "    df, val_map, imputed, cols = remove_hebrew_and_impute(df)\n",
    "    X,Y, x_cols = get_XY(df, cols)\n",
    "\n",
    "if not 'brf' in globals():\n",
    "    model_fname = 'models/2018_11_20_injury_risk_balanced_RF_classifier_full_03.joblib'\n",
    "    brf = joblib.load(model_fname)"
   ]
  },
  {
   "cell_type": "code",
   "execution_count": null,
   "metadata": {},
   "outputs": [
    {
     "name": "stdout",
     "output_type": "stream",
     "text": [
      "[94/131] features ██████████████------ Time elapsed: 2039 seconds"
     ]
    }
   ],
   "source": [
    "from skater.core.explanations import Interpretation\n",
    "from skater.model import InMemoryModel\n",
    "\n",
    "interpreter = Interpretation(X, feature_names=x_cols)\n",
    "model = InMemoryModel(brf.predict_proba, examples=X)\n",
    "plots = interpreter.feature_importance.plot_feature_importance(model, ascending = False)"
   ]
  }
 ],
 "metadata": {
  "kernelspec": {
   "display_name": "Python 3",
   "language": "python",
   "name": "python3"
  },
  "language_info": {
   "codemirror_mode": {
    "name": "ipython",
    "version": 3
   },
   "file_extension": ".py",
   "mimetype": "text/x-python",
   "name": "python",
   "nbconvert_exporter": "python",
   "pygments_lexer": "ipython3",
   "version": "3.6.5"
  }
 },
 "nbformat": 4,
 "nbformat_minor": 2
}
